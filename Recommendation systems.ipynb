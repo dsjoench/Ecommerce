{
 "cells": [
  {
   "cell_type": "markdown",
   "metadata": {},
   "source": [
    "# Recommendation Systems"
   ]
  },
  {
   "cell_type": "markdown",
   "metadata": {},
   "source": [
    "### Background\n",
    "##### The second part of this project aims to build a recommendation systems to find the complements items "
   ]
  },
  {
   "cell_type": "code",
   "execution_count": 2,
   "metadata": {},
   "outputs": [],
   "source": [
    "# import libraries\n",
    "import pandas as pd\n",
    "import numpy as np\n",
    "from scipy.stats import ttest_ind\n",
    "import matplotlib.pyplot as plt\n",
    "import seaborn as sns\n",
    "\n",
    "import warnings\n",
    "warnings.filterwarnings('ignore')\n",
    "%matplotlib inline\n",
    "\n",
    "import pylab as pl\n",
    "from sklearn.cluster import KMeans\n",
    "from sklearn.decomposition import PCA"
   ]
  },
  {
   "cell_type": "code",
   "execution_count": 25,
   "metadata": {},
   "outputs": [],
   "source": [
    "## helper functions"
   ]
  },
  {
   "cell_type": "code",
   "execution_count": 23,
   "metadata": {},
   "outputs": [],
   "source": [
    "# Import the data\n",
    "rec_sys = pd.read_table('dataset/All Transations - 2 Weeks.txt',skiprows =1,names= ('order_num','l1','l2','l3','product_Id','brand'))\n"
   ]
  },
  {
   "cell_type": "code",
   "execution_count": 24,
   "metadata": {},
   "outputs": [
    {
     "data": {
      "text/html": [
       "<div>\n",
       "<style scoped>\n",
       "    .dataframe tbody tr th:only-of-type {\n",
       "        vertical-align: middle;\n",
       "    }\n",
       "\n",
       "    .dataframe tbody tr th {\n",
       "        vertical-align: top;\n",
       "    }\n",
       "\n",
       "    .dataframe thead th {\n",
       "        text-align: right;\n",
       "    }\n",
       "</style>\n",
       "<table border=\"1\" class=\"dataframe\">\n",
       "  <thead>\n",
       "    <tr style=\"text-align: right;\">\n",
       "      <th></th>\n",
       "      <th>order_num</th>\n",
       "      <th>l1</th>\n",
       "      <th>l2</th>\n",
       "      <th>l3</th>\n",
       "      <th>product_Id</th>\n",
       "      <th>brand</th>\n",
       "    </tr>\n",
       "  </thead>\n",
       "  <tbody>\n",
       "    <tr>\n",
       "      <th>0</th>\n",
       "      <td>168266</td>\n",
       "      <td>Power Tools</td>\n",
       "      <td>Power Saws and Accessories</td>\n",
       "      <td>Reciprocating Saw Blades</td>\n",
       "      <td>265105</td>\n",
       "      <td>2768</td>\n",
       "    </tr>\n",
       "    <tr>\n",
       "      <th>1</th>\n",
       "      <td>123986</td>\n",
       "      <td>Safety</td>\n",
       "      <td>Spill Control Supplies</td>\n",
       "      <td>Temporary Leak Repair</td>\n",
       "      <td>215839</td>\n",
       "      <td>586</td>\n",
       "    </tr>\n",
       "    <tr>\n",
       "      <th>2</th>\n",
       "      <td>158978</td>\n",
       "      <td>Hardware</td>\n",
       "      <td>Door Hardware</td>\n",
       "      <td>Thresholds</td>\n",
       "      <td>284756</td>\n",
       "      <td>1793</td>\n",
       "    </tr>\n",
       "    <tr>\n",
       "      <th>3</th>\n",
       "      <td>449035</td>\n",
       "      <td>Electronics, Appliances, and Batteries</td>\n",
       "      <td>Batteries</td>\n",
       "      <td>Standard Batteries</td>\n",
       "      <td>12579</td>\n",
       "      <td>1231</td>\n",
       "    </tr>\n",
       "    <tr>\n",
       "      <th>4</th>\n",
       "      <td>781232</td>\n",
       "      <td>Motors</td>\n",
       "      <td>General Purpose AC Motors</td>\n",
       "      <td>General Purpose AC Motors</td>\n",
       "      <td>194681</td>\n",
       "      <td>2603</td>\n",
       "    </tr>\n",
       "  </tbody>\n",
       "</table>\n",
       "</div>"
      ],
      "text/plain": [
       "   order_num                                      l1  \\\n",
       "0     168266                             Power Tools   \n",
       "1     123986                                  Safety   \n",
       "2     158978                                Hardware   \n",
       "3     449035  Electronics, Appliances, and Batteries   \n",
       "4     781232                                  Motors   \n",
       "\n",
       "                           l2                         l3  product_Id  brand  \n",
       "0  Power Saws and Accessories   Reciprocating Saw Blades      265105   2768  \n",
       "1      Spill Control Supplies      Temporary Leak Repair      215839    586  \n",
       "2               Door Hardware                 Thresholds      284756   1793  \n",
       "3                   Batteries         Standard Batteries       12579   1231  \n",
       "4   General Purpose AC Motors  General Purpose AC Motors      194681   2603  "
      ]
     },
     "execution_count": 24,
     "metadata": {},
     "output_type": "execute_result"
    }
   ],
   "source": [
    "# Data at a glance\n",
    "rec_sys.head(5)"
   ]
  },
  {
   "cell_type": "code",
   "execution_count": 18,
   "metadata": {},
   "outputs": [
    {
     "data": {
      "text/plain": [
       "(2107537, 6)"
      ]
     },
     "execution_count": 18,
     "metadata": {},
     "output_type": "execute_result"
    }
   ],
   "source": [
    "rec_sys.shape"
   ]
  },
  {
   "cell_type": "code",
   "execution_count": 19,
   "metadata": {},
   "outputs": [
    {
     "name": "stdout",
     "output_type": "stream",
     "text": [
      "<class 'pandas.core.frame.DataFrame'>\n",
      "RangeIndex: 2107537 entries, 0 to 2107536\n",
      "Data columns (total 6 columns):\n",
      "order_num     int64\n",
      "l1            object\n",
      "l2            object\n",
      "l3            object\n",
      "product_Id    int64\n",
      "brand         int64\n",
      "dtypes: int64(3), object(3)\n",
      "memory usage: 96.5+ MB\n"
     ]
    }
   ],
   "source": [
    "rec_sys.info()"
   ]
  },
  {
   "cell_type": "code",
   "execution_count": 20,
   "metadata": {},
   "outputs": [
    {
     "data": {
      "text/html": [
       "<div>\n",
       "<style scoped>\n",
       "    .dataframe tbody tr th:only-of-type {\n",
       "        vertical-align: middle;\n",
       "    }\n",
       "\n",
       "    .dataframe tbody tr th {\n",
       "        vertical-align: top;\n",
       "    }\n",
       "\n",
       "    .dataframe thead th {\n",
       "        text-align: right;\n",
       "    }\n",
       "</style>\n",
       "<table border=\"1\" class=\"dataframe\">\n",
       "  <thead>\n",
       "    <tr style=\"text-align: right;\">\n",
       "      <th></th>\n",
       "      <th>l1</th>\n",
       "      <th>l2</th>\n",
       "      <th>l3</th>\n",
       "    </tr>\n",
       "  </thead>\n",
       "  <tbody>\n",
       "    <tr>\n",
       "      <th>count</th>\n",
       "      <td>2107537</td>\n",
       "      <td>2107537</td>\n",
       "      <td>2107537</td>\n",
       "    </tr>\n",
       "    <tr>\n",
       "      <th>unique</th>\n",
       "      <td>33</td>\n",
       "      <td>593</td>\n",
       "      <td>6203</td>\n",
       "    </tr>\n",
       "    <tr>\n",
       "      <th>top</th>\n",
       "      <td>Safety</td>\n",
       "      <td>Gloves and Hand Protection</td>\n",
       "      <td>Standard Batteries</td>\n",
       "    </tr>\n",
       "    <tr>\n",
       "      <th>freq</th>\n",
       "      <td>447381</td>\n",
       "      <td>137779</td>\n",
       "      <td>38793</td>\n",
       "    </tr>\n",
       "  </tbody>\n",
       "</table>\n",
       "</div>"
      ],
      "text/plain": [
       "             l1                          l2                  l3\n",
       "count   2107537                     2107537             2107537\n",
       "unique       33                         593                6203\n",
       "top      Safety  Gloves and Hand Protection  Standard Batteries\n",
       "freq     447381                      137779               38793"
      ]
     },
     "execution_count": 20,
     "metadata": {},
     "output_type": "execute_result"
    }
   ],
   "source": [
    "rec_sys.describe(include='O')"
   ]
  },
  {
   "cell_type": "code",
   "execution_count": 22,
   "metadata": {},
   "outputs": [
    {
     "data": {
      "text/html": [
       "<div>\n",
       "<style scoped>\n",
       "    .dataframe tbody tr th:only-of-type {\n",
       "        vertical-align: middle;\n",
       "    }\n",
       "\n",
       "    .dataframe tbody tr th {\n",
       "        vertical-align: top;\n",
       "    }\n",
       "\n",
       "    .dataframe thead th {\n",
       "        text-align: right;\n",
       "    }\n",
       "</style>\n",
       "<table border=\"1\" class=\"dataframe\">\n",
       "  <thead>\n",
       "    <tr style=\"text-align: right;\">\n",
       "      <th></th>\n",
       "      <th>order_num</th>\n",
       "      <th>product_Id</th>\n",
       "      <th>brand</th>\n",
       "    </tr>\n",
       "  </thead>\n",
       "  <tbody>\n",
       "    <tr>\n",
       "      <th>count</th>\n",
       "      <td>2.107537e+06</td>\n",
       "      <td>2.107537e+06</td>\n",
       "      <td>2.107537e+06</td>\n",
       "    </tr>\n",
       "    <tr>\n",
       "      <th>mean</th>\n",
       "      <td>4.910857e+05</td>\n",
       "      <td>1.731658e+05</td>\n",
       "      <td>2.208146e+03</td>\n",
       "    </tr>\n",
       "    <tr>\n",
       "      <th>std</th>\n",
       "      <td>2.476892e+05</td>\n",
       "      <td>9.741614e+04</td>\n",
       "      <td>1.374319e+03</td>\n",
       "    </tr>\n",
       "    <tr>\n",
       "      <th>min</th>\n",
       "      <td>1.000000e+00</td>\n",
       "      <td>1.000000e+00</td>\n",
       "      <td>1.000000e+00</td>\n",
       "    </tr>\n",
       "    <tr>\n",
       "      <th>25%</th>\n",
       "      <td>2.830710e+05</td>\n",
       "      <td>8.639000e+04</td>\n",
       "      <td>1.068000e+03</td>\n",
       "    </tr>\n",
       "    <tr>\n",
       "      <th>50%</th>\n",
       "      <td>4.830660e+05</td>\n",
       "      <td>1.813530e+05</td>\n",
       "      <td>1.793000e+03</td>\n",
       "    </tr>\n",
       "    <tr>\n",
       "      <th>75%</th>\n",
       "      <td>6.845630e+05</td>\n",
       "      <td>2.629210e+05</td>\n",
       "      <td>3.343000e+03</td>\n",
       "    </tr>\n",
       "    <tr>\n",
       "      <th>max</th>\n",
       "      <td>1.243048e+06</td>\n",
       "      <td>3.331270e+05</td>\n",
       "      <td>4.841000e+03</td>\n",
       "    </tr>\n",
       "  </tbody>\n",
       "</table>\n",
       "</div>"
      ],
      "text/plain": [
       "          order_num    product_Id         brand\n",
       "count  2.107537e+06  2.107537e+06  2.107537e+06\n",
       "mean   4.910857e+05  1.731658e+05  2.208146e+03\n",
       "std    2.476892e+05  9.741614e+04  1.374319e+03\n",
       "min    1.000000e+00  1.000000e+00  1.000000e+00\n",
       "25%    2.830710e+05  8.639000e+04  1.068000e+03\n",
       "50%    4.830660e+05  1.813530e+05  1.793000e+03\n",
       "75%    6.845630e+05  2.629210e+05  3.343000e+03\n",
       "max    1.243048e+06  3.331270e+05  4.841000e+03"
      ]
     },
     "execution_count": 22,
     "metadata": {},
     "output_type": "execute_result"
    }
   ],
   "source": [
    "rec_sys.describe()"
   ]
  },
  {
   "cell_type": "code",
   "execution_count": null,
   "metadata": {},
   "outputs": [],
   "source": []
  }
 ],
 "metadata": {
  "kernelspec": {
   "display_name": "Python 3",
   "language": "python",
   "name": "python3"
  },
  "language_info": {
   "codemirror_mode": {
    "name": "ipython",
    "version": 3
   },
   "file_extension": ".py",
   "mimetype": "text/x-python",
   "name": "python",
   "nbconvert_exporter": "python",
   "pygments_lexer": "ipython3",
   "version": "3.7.3"
  }
 },
 "nbformat": 4,
 "nbformat_minor": 2
}
